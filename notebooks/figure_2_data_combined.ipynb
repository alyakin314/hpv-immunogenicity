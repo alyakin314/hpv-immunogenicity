{
 "cells": [
  {
   "cell_type": "code",
   "execution_count": 1,
   "id": "2ae8c7ec",
   "metadata": {},
   "outputs": [],
   "source": [
    "import numpy as np\n",
    "import pandas as pd\n",
    "import pickle as pkl\n",
    "from tqdm.notebook import tqdm"
   ]
  },
  {
   "cell_type": "code",
   "execution_count": 2,
   "id": "0ba52b93",
   "metadata": {},
   "outputs": [],
   "source": [
    "def element_wise_compare(text1, text2):\n",
    "    if len(text1) != len(text2):\n",
    "        print(\"texts not equal lenth\")\n",
    "    return sum([int(c0==c1) for c0, c1 in zip(text1, text2)]) / len(text1)\n",
    "\n",
    "def find_matches(list1, list2, threshold=0.80):\n",
    "    output = np.zeros((len(list1), len(list2)))\n",
    "    for i, a in enumerate(list1):\n",
    "        for j, b in enumerate(list2):\n",
    "            output[i, j] = element_wise_compare(a, b)\n",
    "    output = output >= threshold\n",
    "    # output = (output.sum(axis=1) > 0).sum()\n",
    "    return (output.sum())"
   ]
  },
  {
   "cell_type": "code",
   "execution_count": 3,
   "id": "07a66646",
   "metadata": {},
   "outputs": [
    {
     "name": "stdout",
     "output_type": "stream",
     "text": [
      "['HPV1' 'HPV2' 'HPV3' 'HPV4' 'HPV5' 'HPV7' 'HPV8' 'HPV9' 'HPV10' 'HPV12'\n",
      " 'HPV14' 'HPV15' 'HPV16' 'HPV17' 'HPV18' 'HPV19' 'HPV20' 'HPV21' 'HPV22'\n",
      " 'HPV23' 'HPV24' 'HPV25' 'HPV27' 'HPV28' 'HPV29' 'HPV31' 'HPV32' 'HPV33'\n",
      " 'HPV34' 'HPV35' 'HPV36' 'HPV37' 'HPV38' 'HPV39' 'HPV41' 'HPV42' 'HPV45'\n",
      " 'HPV47' 'HPV48' 'HPV49' 'HPV50' 'HPV51' 'HPV52' 'HPV54' 'HPV56' 'HPV57'\n",
      " 'HPV58' 'HPV59' 'HPV60' 'HPV61' 'HPV65' 'HPV67' 'HPV68' 'HPV69' 'HPV70'\n",
      " 'HPV75' 'HPV76' 'HPV80' 'HPV88' 'HPV92' 'HPV93' 'HPV95' 'HPV96' 'HPV100'\n",
      " 'HPV132' 'HPV151' 'HPV197']\n"
     ]
    }
   ],
   "source": [
    "full_df = pd.read_csv('../results/resultsnetMHCpan-selected-500.csv')\n",
    "df = full_df[['virus', 'peptide', 'protein']].drop_duplicates()\n",
    "df['virus_int'] = df['virus'].apply(lambda x: int(x[3:]))\n",
    "viruses = df.sort_values('virus_int')['virus'].drop_duplicates().values\n",
    "pd.DataFrame(viruses).to_csv('../results/figure_2_all_alleles_viruses.csv')\n",
    "print(viruses)"
   ]
  },
  {
   "cell_type": "code",
   "execution_count": 4,
   "id": "2275f558",
   "metadata": {},
   "outputs": [],
   "source": [
    "thresholds = [0.8] #, 0.99]\n",
    "proteins = ['E1', 'E2', 'E6', 'E7']"
   ]
  },
  {
   "cell_type": "code",
   "execution_count": 5,
   "id": "39377d1b",
   "metadata": {},
   "outputs": [
    {
     "data": {
      "application/vnd.jupyter.widget-view+json": {
       "model_id": "1336c1fb3c124f4c95c971a460261e6f",
       "version_major": 2,
       "version_minor": 0
      },
      "text/plain": [
       "0it [00:00, ?it/s]"
      ]
     },
     "metadata": {},
     "output_type": "display_data"
    },
    {
     "data": {
      "application/vnd.jupyter.widget-view+json": {
       "model_id": "378f73fa11ba40259b997535a136680d",
       "version_major": 2,
       "version_minor": 0
      },
      "text/plain": [
       "0it [00:00, ?it/s]"
      ]
     },
     "metadata": {},
     "output_type": "display_data"
    },
    {
     "data": {
      "application/vnd.jupyter.widget-view+json": {
       "model_id": "fa6002e0f4ef49a5a6c3a4e6fca1cfce",
       "version_major": 2,
       "version_minor": 0
      },
      "text/plain": [
       "0it [00:00, ?it/s]"
      ]
     },
     "metadata": {},
     "output_type": "display_data"
    },
    {
     "data": {
      "application/vnd.jupyter.widget-view+json": {
       "model_id": "d0ea079931d8401f9271730369e4b79c",
       "version_major": 2,
       "version_minor": 0
      },
      "text/plain": [
       "0it [00:00, ?it/s]"
      ]
     },
     "metadata": {},
     "output_type": "display_data"
    }
   ],
   "source": [
    "for threshold in thresholds:\n",
    "    results = np.zeros((len(proteins), len(viruses), len(viruses)))\n",
    "\n",
    "    for i, protein in enumerate(proteins):\n",
    "        for j, left_virus in tqdm(enumerate(viruses)):\n",
    "            for k, right_virus in enumerate(viruses):\n",
    "                left_sequences = df[(df['protein'] == protein) &\n",
    "                                    (df['virus'] == left_virus)].peptide.values\n",
    "                right_sequences = df[(df['protein'] == protein) & \n",
    "                                    (df['virus'] == right_virus)].peptide.values\n",
    "                results[i, j, k] = find_matches(left_sequences,\n",
    "                                                right_sequences,\n",
    "                                                threshold=threshold)\n",
    "\n",
    "    with open('../results/figure_2_all_allele' +\n",
    "              '_threshold_' + str(threshold) + '.pkl', 'wb') as file:\n",
    "        pkl.dump(results, file)"
   ]
  }
 ],
 "metadata": {
  "kernelspec": {
   "display_name": "Python 3 (ipykernel)",
   "language": "python",
   "name": "python3"
  },
  "language_info": {
   "codemirror_mode": {
    "name": "ipython",
    "version": 3
   },
   "file_extension": ".py",
   "mimetype": "text/x-python",
   "name": "python",
   "nbconvert_exporter": "python",
   "pygments_lexer": "ipython3",
   "version": "3.12.2"
  }
 },
 "nbformat": 4,
 "nbformat_minor": 5
}
