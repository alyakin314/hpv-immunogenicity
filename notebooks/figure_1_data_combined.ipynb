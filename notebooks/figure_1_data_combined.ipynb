{
 "cells": [
  {
   "cell_type": "code",
   "execution_count": 1,
   "id": "2ae8c7ec",
   "metadata": {},
   "outputs": [],
   "source": [
    "import numpy as np\n",
    "import pandas as pd\n",
    "import pickle as pkl\n",
    "from Bio import pairwise2\n",
    "from tqdm.notebook import tqdm"
   ]
  },
  {
   "cell_type": "code",
   "execution_count": 2,
   "id": "0ba52b93",
   "metadata": {},
   "outputs": [
    {
     "name": "stderr",
     "output_type": "stream",
     "text": [
      "/Users/antonalyakin/.virtualenvs/graphs/lib/python3.7/site-packages/Bio/SubsMat/__init__.py:131: BiopythonDeprecationWarning: Bio.SubsMat has been deprecated, and we intend to remove it in a future release of Biopython. As an alternative, please consider using Bio.Align.substitution_matrices as a replacement, and contact the Biopython developers if you still need the Bio.SubsMat module.\n",
      "  BiopythonDeprecationWarning,\n"
     ]
    }
   ],
   "source": [
    "from Bio.SubsMat import MatrixInfo as matlist\n",
    "matrix = matlist.blosum62\n",
    "\n",
    "def percent_identity(sequence_1, sequence_2, matrix = matlist.blosum62):\n",
    "    align_outputs = pairwise2.align.globaldd(sequence_1, sequence_2, matrix, -11, -1, -11, -1)\n",
    "    results = []\n",
    "    for align_out in align_outputs: \n",
    "        string_1, string_2, end = align_out.seqA, align_out.seqB, align_out.end\n",
    "        counter = 0\n",
    "        for a, b in zip(string_1, string_2):\n",
    "            if a != '-' and b != '-' and a ==b:\n",
    "                counter = counter +1\n",
    "        results.append(counter / end)\n",
    "    return np.max(results)"
   ]
  },
  {
   "cell_type": "code",
   "execution_count": 3,
   "id": "07a66646",
   "metadata": {},
   "outputs": [
    {
     "name": "stdout",
     "output_type": "stream",
     "text": [
      "['HPV1' 'HPV2' 'HPV3' 'HPV4' 'HPV5' 'HPV7' 'HPV8' 'HPV9' 'HPV10' 'HPV12'\n",
      " 'HPV14' 'HPV15' 'HPV16' 'HPV17' 'HPV18' 'HPV19' 'HPV20' 'HPV21' 'HPV22'\n",
      " 'HPV23' 'HPV24' 'HPV25' 'HPV27' 'HPV28' 'HPV29' 'HPV31' 'HPV32' 'HPV33'\n",
      " 'HPV34' 'HPV35' 'HPV36' 'HPV37' 'HPV38' 'HPV39' 'HPV41' 'HPV42' 'HPV45'\n",
      " 'HPV47' 'HPV48' 'HPV49' 'HPV50' 'HPV51' 'HPV52' 'HPV54' 'HPV56' 'HPV57'\n",
      " 'HPV58' 'HPV59' 'HPV60' 'HPV61' 'HPV65' 'HPV67' 'HPV68' 'HPV69' 'HPV70'\n",
      " 'HPV75' 'HPV76' 'HPV80' 'HPV88' 'HPV92' 'HPV93' 'HPV95' 'HPV96' 'HPV100'\n",
      " 'HPV132' 'HPV151' 'HPV197']\n"
     ]
    }
   ],
   "source": [
    "full_df = pd.read_csv('../data_extracted/all_data.csv')\n",
    "df = full_df[['virus', 'protein', 'aaseq']]\n",
    "df['virus_int'] = df['virus'].apply(lambda x: int(x[3:]))\n",
    "viruses = df.sort_values('virus_int')['virus'].drop_duplicates().values\n",
    "pd.DataFrame(viruses).to_csv('../results/figure_1_viruses.csv')\n",
    "print(viruses)"
   ]
  },
  {
   "cell_type": "code",
   "execution_count": 4,
   "id": "d544562f",
   "metadata": {},
   "outputs": [],
   "source": [
    "proteins = ['E1', 'E2', 'E6', 'E7']"
   ]
  },
  {
   "cell_type": "code",
   "execution_count": 5,
   "id": "39377d1b",
   "metadata": {},
   "outputs": [
    {
     "data": {
      "application/vnd.jupyter.widget-view+json": {
       "model_id": "738f4b0f00cf4b12b1b67663b0fbe2fe",
       "version_major": 2,
       "version_minor": 0
      },
      "text/plain": [
       "0it [00:00, ?it/s]"
      ]
     },
     "metadata": {},
     "output_type": "display_data"
    },
    {
     "data": {
      "application/vnd.jupyter.widget-view+json": {
       "model_id": "28b71425c6d4448e901b4006e27f910f",
       "version_major": 2,
       "version_minor": 0
      },
      "text/plain": [
       "0it [00:00, ?it/s]"
      ]
     },
     "metadata": {},
     "output_type": "display_data"
    },
    {
     "data": {
      "application/vnd.jupyter.widget-view+json": {
       "model_id": "73dd36ec7447484e862116c69d95ec3e",
       "version_major": 2,
       "version_minor": 0
      },
      "text/plain": [
       "0it [00:00, ?it/s]"
      ]
     },
     "metadata": {},
     "output_type": "display_data"
    },
    {
     "data": {
      "application/vnd.jupyter.widget-view+json": {
       "model_id": "c304743e579942a98f1d81be88c3b117",
       "version_major": 2,
       "version_minor": 0
      },
      "text/plain": [
       "0it [00:00, ?it/s]"
      ]
     },
     "metadata": {},
     "output_type": "display_data"
    }
   ],
   "source": [
    "results = np.zeros((len(proteins), len(viruses), len(viruses)))\n",
    "\n",
    "for i, protein in enumerate(proteins):\n",
    "    for j, left_virus in tqdm(enumerate(viruses)):\n",
    "        for k, right_virus in enumerate(viruses):\n",
    "            left_sequence = df[(df['protein'] == protein) &\n",
    "                                (df['virus'] == left_virus)].aaseq.values[0]\n",
    "            right_sequence = df[(df['protein'] == protein) & \n",
    "                                (df['virus'] == right_virus)].aaseq.values[0]\n",
    "            results[i, j, k] = percent_identity(left_sequence,\n",
    "                                                right_sequence)\n",
    "            \n",
    "with open('../results/figure_1.pkl', 'wb') as file:\n",
    "    pkl.dump(results, file)"
   ]
  },
  {
   "cell_type": "code",
   "execution_count": null,
   "id": "a1b73050",
   "metadata": {},
   "outputs": [],
   "source": []
  }
 ],
 "metadata": {
  "kernelspec": {
   "display_name": "Python 3",
   "language": "python",
   "name": "python3"
  },
  "language_info": {
   "codemirror_mode": {
    "name": "ipython",
    "version": 3
   },
   "file_extension": ".py",
   "mimetype": "text/x-python",
   "name": "python",
   "nbconvert_exporter": "python",
   "pygments_lexer": "ipython3",
   "version": "3.7.3"
  }
 },
 "nbformat": 4,
 "nbformat_minor": 5
}
